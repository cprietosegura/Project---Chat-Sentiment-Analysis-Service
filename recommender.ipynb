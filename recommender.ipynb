{
 "cells": [
  {
   "cell_type": "code",
   "execution_count": 1,
   "metadata": {},
   "outputs": [],
   "source": [
    "import requests\n",
    "import nltk \n",
    "from nltk.sentiment.vader import SentimentIntensityAnalyzer\n",
    "import pandas as pd"
   ]
  },
  {
   "cell_type": "code",
   "execution_count": 2,
   "metadata": {},
   "outputs": [
    {
     "data": {
      "text/plain": [
       "<Response [200]>"
      ]
     },
     "execution_count": 2,
     "metadata": {},
     "output_type": "execute_result"
    }
   ],
   "source": [
    "url='http://localhost:8080/user/Walter White/recommend'\n",
    "res=requests.get(url)\n",
    "res"
   ]
  },
  {
   "cell_type": "code",
   "execution_count": 3,
   "metadata": {},
   "outputs": [
    {
     "data": {
      "text/plain": [
       "{'Complete chat sentiment Metric': {'Negative': 0.1862,\n",
       "  'Neutral': 0.6926,\n",
       "  'Positive': 0.121},\n",
       " 'Message 1 analysis': [\"Walter White: Oh, no. I don't want to hear about the police.\",\n",
       "  {'compound': -0.3447, 'neg': 0.328, 'neu': 0.672, 'pos': 0.0}],\n",
       " 'Message 2 analysis': [\"Walter White: I don't want to hear about the police.\",\n",
       "  {'compound': -0.0572, 'neg': 0.169, 'neu': 0.831, 'pos': 0.0}],\n",
       " 'Message 3 analysis': [\"Walter White: That's not the truth.\",\n",
       "  {'compound': -0.2411, 'neg': 0.395, 'neu': 0.605, 'pos': 0.0}],\n",
       " 'Message 4 analysis': [\"Walter White: OK, we're done here.\",\n",
       "  {'compound': 0.4466, 'neg': 0.0, 'neu': 0.506, 'pos': 0.494}],\n",
       " 'Message 5 analysis': [\"Walter White: Who are you talking to right now? Who is it you think you see? Do you know how much I make a year? I mean, even if I told you, you wouldn't believe it. Do you know what would happen if I suddenly decided to stop going into work? A business big enough that it could be listed on the NASDAQ goes belly-up - disappears. It ceases to exist without me. No. You clearly don't know who you're talking to, so let me clue you in. I am not in danger, Skyler. I am the danger. A guy opens his door and gets shot, and you think that of me? No. I am the one who knocks.\",\n",
       "  {'compound': 0.812, 'neg': 0.039, 'neu': 0.849, 'pos': 0.111}]}"
      ]
     },
     "execution_count": 3,
     "metadata": {},
     "output_type": "execute_result"
    }
   ],
   "source": [
    "report_chat=res.json()\n",
    "report_chat"
   ]
  },
  {
   "cell_type": "code",
   "execution_count": 4,
   "metadata": {},
   "outputs": [
    {
     "data": {
      "text/plain": [
       "<Response [200]>"
      ]
     },
     "execution_count": 4,
     "metadata": {},
     "output_type": "execute_result"
    }
   ],
   "source": [
    "url='http://localhost:8080/Walter White'\n",
    "res=requests.get(url)\n",
    "res"
   ]
  },
  {
   "cell_type": "code",
   "execution_count": 5,
   "metadata": {},
   "outputs": [
    {
     "data": {
      "text/plain": [
       "[{'text': \"Oh, no. I don't want to hear about the police.\",\n",
       "  'userName': 'Walter White'},\n",
       " {'text': \"I don't want to hear about the police.\",\n",
       "  'userName': 'Walter White'},\n",
       " {'text': \"That's not the truth.\", 'userName': 'Walter White'},\n",
       " {'text': \"OK, we're done here.\", 'userName': 'Walter White'},\n",
       " {'text': \"Who are you talking to right now? Who is it you think you see? Do you know how much I make a year? I mean, even if I told you, you wouldn't believe it. Do you know what would happen if I suddenly decided to stop going into work? A business big enough that it could be listed on the NASDAQ goes belly-up - disappears. It ceases to exist without me. No. You clearly don't know who you're talking to, so let me clue you in. I am not in danger, Skyler. I am the danger. A guy opens his door and gets shot, and you think that of me? No. I am the one who knocks.\",\n",
       "  'userName': 'Walter White'}]"
      ]
     },
     "execution_count": 5,
     "metadata": {},
     "output_type": "execute_result"
    }
   ],
   "source": [
    "\n",
    "mensajes=res.json()\n",
    "mensajes"
   ]
  },
  {
   "cell_type": "code",
   "execution_count": 6,
   "metadata": {},
   "outputs": [
    {
     "name": "stdout",
     "output_type": "stream",
     "text": [
      "Oh, no. I don't want to hear about the police.\n",
      "{'neg': 0.328, 'neu': 0.672, 'compound': -0.3447, 'pos': 0.0}\n",
      "I don't want to hear about the police.\n",
      "{'neg': 0.169, 'neu': 0.831, 'compound': -0.0572, 'pos': 0.0}\n",
      "That's not the truth.\n",
      "{'neg': 0.395, 'neu': 0.605, 'compound': -0.2411, 'pos': 0.0}\n",
      "OK, we're done here.\n",
      "{'neg': 0.0, 'neu': 0.506, 'compound': 0.4466, 'pos': 0.494}\n",
      "Who are you talking to right now? Who is it you think you see? Do you know how much I make a year? I mean, even if I told you, you wouldn't believe it. Do you know what would happen if I suddenly decided to stop going into work? A business big enough that it could be listed on the NASDAQ goes belly-up - disappears. It ceases to exist without me. No. You clearly don't know who you're talking to, so let me clue you in. I am not in danger, Skyler. I am the danger. A guy opens his door and gets shot, and you think that of me? No. I am the one who knocks.\n",
      "{'neg': 0.039, 'neu': 0.849, 'compound': 0.812, 'pos': 0.111}\n"
     ]
    }
   ],
   "source": [
    "sid = SentimentIntensityAnalyzer()\n",
    "scores=[]\n",
    "conversation=[]\n",
    "for text in mensajes:\n",
    "    print(text['text'])\n",
    "    print(sid.polarity_scores(text['text']))\n",
    "    conversation.append(text['userName']+': '+text['text'])\n",
    "    scores.append(sid.polarity_scores(text['text']))"
   ]
  },
  {
   "cell_type": "code",
   "execution_count": 7,
   "metadata": {},
   "outputs": [],
   "source": [
    "df=pd.DataFrame(scores)\n",
    "df=df[['neg', 'neu', 'pos']]\n",
    "df=df.rename(columns={'neg':'Negative', 'neu':'Neutral', 'pos':'Positive'})\n",
    "means=df.mean(axis = 0) "
   ]
  },
  {
   "cell_type": "code",
   "execution_count": 8,
   "metadata": {},
   "outputs": [
    {
     "data": {
      "text/plain": [
       "Negative    0.1862\n",
       "Neutral     0.6926\n",
       "Positive    0.1210\n",
       "dtype: float64"
      ]
     },
     "execution_count": 8,
     "metadata": {},
     "output_type": "execute_result"
    }
   ],
   "source": [
    "means\n"
   ]
  },
  {
   "cell_type": "code",
   "execution_count": null,
   "metadata": {},
   "outputs": [],
   "source": []
  }
 ],
 "metadata": {
  "file_extension": ".py",
  "kernelspec": {
   "display_name": "Python 3",
   "language": "python",
   "name": "python3"
  },
  "language_info": {
   "codemirror_mode": {
    "name": "ipython",
    "version": 3
   },
   "file_extension": ".py",
   "mimetype": "text/x-python",
   "name": "python",
   "nbconvert_exporter": "python",
   "pygments_lexer": "ipython3",
   "version": "3.5.2"
  },
  "mimetype": "text/x-python",
  "name": "python",
  "npconvert_exporter": "python",
  "pygments_lexer": "ipython3",
  "version": 3
 },
 "nbformat": 4,
 "nbformat_minor": 2
}
