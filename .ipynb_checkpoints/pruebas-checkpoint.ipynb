{
 "cells": [
  {
   "cell_type": "code",
   "execution_count": 2,
   "metadata": {},
   "outputs": [],
   "source": [
    "from bottle import route, run, get, post, request\n",
    "from pymongo import MongoClient\n",
    "import random\n",
    "import getpass"
   ]
  },
  {
   "cell_type": "code",
   "execution_count": 3,
   "metadata": {},
   "outputs": [
    {
     "name": "stdout",
     "output_type": "stream",
     "text": [
      "Insert your AtlasMongoDB admin_1019 password: ········\n"
     ]
    }
   ],
   "source": [
    "password = getpass.getpass(\"Insert your AtlasMongoDB admin_1019 password: \")\n",
    "connection = \"mongodb+srv://Celia_Mongodb:{}@cluster0-u6tdq.mongodb.net/test?retryWrites=true&w=majority\".format(password)\n",
    "\n",
    "def connectCollection(database, collection, connection):\n",
    "    client = MongoClient(connection)\n",
    "    db = client[database]\n",
    "    coll = db[collection]\n",
    "    return db, coll"
   ]
  },
  {
   "cell_type": "code",
   "execution_count": null,
   "metadata": {},
   "outputs": [],
   "source": [
    "@get(\"/chat/<userName>\")\n",
    "def GetUserMessages(self,userName):\n",
    "        self.user=userName\n",
    "        mess_users= list(self.collection.find({'userName': userName})) \n",
    "        return mess_users\n",
    "        \n",
    "coll=connectCollection('chats-sentiment','chat1',connection)\n",
    "run(host='localhost', port=8080, debug=True)"
   ]
  },
  {
   "cell_type": "code",
   "execution_count": null,
   "metadata": {},
   "outputs": [],
   "source": []
  }
 ],
 "metadata": {
  "kernelspec": {
   "display_name": "Python 3",
   "language": "python",
   "name": "python3"
  },
  "language_info": {
   "codemirror_mode": {
    "name": "ipython",
    "version": 3
   },
   "file_extension": ".py",
   "mimetype": "text/x-python",
   "name": "python",
   "nbconvert_exporter": "python",
   "pygments_lexer": "ipython3",
   "version": "3.5.2"
  }
 },
 "nbformat": 4,
 "nbformat_minor": 2
}
