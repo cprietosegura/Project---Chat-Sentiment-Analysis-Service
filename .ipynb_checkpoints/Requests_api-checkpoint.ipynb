{
 "cells": [
  {
   "cell_type": "code",
   "execution_count": 2,
   "metadata": {},
   "outputs": [],
   "source": [
    "import requests\n",
    "import nltk \n",
    "from nltk.sentiment.vader import SentimentIntensityAnalyzer\n",
    "import pandas as pd"
   ]
  },
  {
   "cell_type": "markdown",
   "metadata": {},
   "source": [
    "### Get requests"
   ]
  },
  {
   "cell_type": "markdown",
   "metadata": {},
   "source": [
    "**Aquí pedimos todos los mensajes de un usuario**"
   ]
  },
  {
   "cell_type": "code",
   "execution_count": 2,
   "metadata": {},
   "outputs": [],
   "source": [
    "#data = requests.get('http://localhost:8080/John Wick').json()\n",
    "url='http://localhost:8080/John Wick'"
   ]
  },
  {
   "cell_type": "code",
   "execution_count": 3,
   "metadata": {},
   "outputs": [
    {
     "data": {
      "text/plain": [
       "[{'text': 'Hey Mike, whats up??', 'userName': 'John Wick'},\n",
       " {'text': 'No, had to work. How was it?', 'userName': 'John Wick'},\n",
       " {'text': 'No way! 😮️', 'userName': 'John Wick'},\n",
       " {'text': 'I bet people went crazy', 'userName': 'John Wick'},\n",
       " {'text': 'Motherfucker! Hungover? 😵️', 'userName': 'John Wick'},\n",
       " {'text': 'Sure, boss.', 'userName': 'John Wick'},\n",
       " {'text': 'I do! I just dont feel appreciated in my job',\n",
       "  'userName': 'John Wick'},\n",
       " {'text': 'I dunno...', 'userName': 'John Wick'},\n",
       " {'text': 'Maybe', 'userName': 'John Wick'},\n",
       " {'text': 'Thank you, boss! I feel much better...', 'userName': 'John Wick'}]"
      ]
     },
     "execution_count": 3,
     "metadata": {},
     "output_type": "execute_result"
    }
   ],
   "source": [
    "requests.get(url).json()"
   ]
  },
  {
   "cell_type": "markdown",
   "metadata": {},
   "source": [
    "**Aquí pedimos todos los mensajes de un chat**"
   ]
  },
  {
   "cell_type": "code",
   "execution_count": 6,
   "metadata": {},
   "outputs": [
    {
     "data": {
      "text/plain": [
       "[{'text': 'Sweety pie! How Ive longed to talk to you.',\n",
       "  'userName': 'Mike Wazowski'},\n",
       " {'text': 'Not again, Michael.... 😒️', 'userName': 'Ellen Ripley'},\n",
       " {'text': 'Its Mike, honey bunny. Or doctor LOVE! And youre a sick little girl.',\n",
       "  'userName': 'Mike Wazowski'},\n",
       " {'text': 'Im gonna report you to Human Resources again, Michael.',\n",
       "  'userName': 'Ellen Ripley'},\n",
       " {'text': 'Cant handle me on your own?', 'userName': 'Mike Wazowski'},\n",
       " {'text': 'Id rather have a fucking alien crawling out of my ass',\n",
       "  'userName': 'Ellen Ripley'},\n",
       " {'text': 'That would be hot... 🔥️', 'userName': 'Mike Wazowski'},\n",
       " {'text': 'Ok, youve got to stop drinking! Im calling HR.',\n",
       "  'userName': 'Ellen Ripley'},\n",
       " {'text': 'I NEED VODKA LIKE A CAR NEEDS GAS', 'userName': 'Mike Wazowski'},\n",
       " {'text': 'Dude... Alcoholics Anonymous: https://www.aa.org',\n",
       "  'userName': 'Ellen Ripley'}]"
      ]
     },
     "execution_count": 6,
     "metadata": {},
     "output_type": "execute_result"
    }
   ],
   "source": [
    "url='http://localhost:8080/chat/2/list'\n",
    "chat2=requests.get(url).json()\n",
    "chat2"
   ]
  },
  {
   "cell_type": "code",
   "execution_count": 10,
   "metadata": {},
   "outputs": [],
   "source": [
    "url='http://localhost:8080/chat/0/list'\n",
    "chat0=requests.get(url).json()"
   ]
  },
  {
   "cell_type": "code",
   "execution_count": 11,
   "metadata": {},
   "outputs": [
    {
     "data": {
      "text/plain": [
       "[{'text': 'Hey Mike, whats up??', 'userName': 'John Wick'},\n",
       " {'text': 'Dude!!! 😀️ Did you watch the game last night?',\n",
       "  'userName': 'Mike Wazowski'},\n",
       " {'text': 'No, had to work. How was it?', 'userName': 'John Wick'},\n",
       " {'text': 'Awesome! Boyander scored 3 goals!', 'userName': 'Mike Wazowski'},\n",
       " {'text': 'No way! 😮️', 'userName': 'John Wick'},\n",
       " {'text': 'Way...', 'userName': 'Mike Wazowski'},\n",
       " {'text': 'I bet people went crazy', 'userName': 'John Wick'},\n",
       " {'text': 'For sure. We stayed at KuboLoco until 6AM.',\n",
       "  'userName': 'Mike Wazowski'},\n",
       " {'text': 'Motherfucker! Hungover? 😵️', 'userName': 'John Wick'},\n",
       " {'text': 'Dead, burried and still suffering! \\U0001f92e️',\n",
       "  'userName': 'Mike Wazowski'}]"
      ]
     },
     "execution_count": 11,
     "metadata": {},
     "output_type": "execute_result"
    }
   ],
   "source": [
    "chat0"
   ]
  },
  {
   "cell_type": "code",
   "execution_count": 19,
   "metadata": {},
   "outputs": [
    {
     "data": {
      "text/plain": [
       "['John Wick: Hey Mike, whats up??',\n",
       " 'Mike Wazowski: Dude!!! 😀️ Did you watch the game last night?',\n",
       " 'John Wick: No, had to work. How was it?',\n",
       " 'Mike Wazowski: Awesome! Boyander scored 3 goals!',\n",
       " 'John Wick: No way! 😮️',\n",
       " 'Mike Wazowski: Way...',\n",
       " 'John Wick: I bet people went crazy',\n",
       " 'Mike Wazowski: For sure. We stayed at KuboLoco until 6AM.',\n",
       " 'John Wick: Motherfucker! Hungover? 😵️',\n",
       " 'Mike Wazowski: Dead, burried and still suffering! \\U0001f92e️']"
      ]
     },
     "execution_count": 19,
     "metadata": {},
     "output_type": "execute_result"
    }
   ],
   "source": [
    "\"\"\"sid = SentimentIntensityAnalyzer()\n",
    "scores=[]\n",
    "conversation=[]\n",
    "for text in chat0:\n",
    "        conversation.append(text['userName']+': '+text['text'])\n",
    "        #print(sid.polarity_scores(text['text']))\n",
    "        #print('-----')\n",
    "conversation\"\"\""
   ]
  },
  {
   "cell_type": "code",
   "execution_count": 29,
   "metadata": {},
   "outputs": [],
   "source": [
    "\"\"\"def getSentimentReport(chat):\n",
    "    sid = SentimentIntensityAnalyzer()\n",
    "    scores=[]\n",
    "    conversation=[]\n",
    "    for text in chat:\n",
    "        conversation.append(text['userName']+': '+text['text'])\n",
    "        scores.append(sid.polarity_scores(text['text']))\n",
    "    df=pd.DataFrame(scores)\n",
    "    df=df[['neg', 'neu', 'pos']]\n",
    "    df=df.rename(columns={'neg':'Negative', 'neu':'Neutral', 'pos':'Positive'})\n",
    "    means=df.mean(axis = 0) \n",
    "    df=pd.DataFrame(means)\n",
    "    df.columns = ['Scores']\n",
    "    df.index.name= 'Sentiment Metric'\n",
    "    print('--SENTIMENT REPORT--\\n')\n",
    "    print('The following conversation has been analyse using VADER \\n')\n",
    "    print(conversation)\n",
    "    return df\"\"\""
   ]
  },
  {
   "cell_type": "code",
   "execution_count": 30,
   "metadata": {},
   "outputs": [
    {
     "name": "stdout",
     "output_type": "stream",
     "text": [
      "--SENTIMENT REPORT--\n",
      "\n",
      "The following conversation has been analyse using VADER \n",
      "\n",
      "['Mike Wazowski: Sweety pie! How Ive longed to talk to you.', 'Ellen Ripley: Not again, Michael.... 😒️', 'Mike Wazowski: Its Mike, honey bunny. Or doctor LOVE! And youre a sick little girl.', 'Ellen Ripley: Im gonna report you to Human Resources again, Michael.', 'Mike Wazowski: Cant handle me on your own?', 'Ellen Ripley: Id rather have a fucking alien crawling out of my ass', 'Mike Wazowski: That would be hot... 🔥️', 'Ellen Ripley: Ok, youve got to stop drinking! Im calling HR.', 'Mike Wazowski: I NEED VODKA LIKE A CAR NEEDS GAS', 'Ellen Ripley: Dude... Alcoholics Anonymous: https://www.aa.org']\n"
     ]
    },
    {
     "data": {
      "text/html": [
       "<div>\n",
       "<style scoped>\n",
       "    .dataframe tbody tr th:only-of-type {\n",
       "        vertical-align: middle;\n",
       "    }\n",
       "\n",
       "    .dataframe tbody tr th {\n",
       "        vertical-align: top;\n",
       "    }\n",
       "\n",
       "    .dataframe thead th {\n",
       "        text-align: right;\n",
       "    }\n",
       "</style>\n",
       "<table border=\"1\" class=\"dataframe\">\n",
       "  <thead>\n",
       "    <tr style=\"text-align: right;\">\n",
       "      <th></th>\n",
       "      <th>Scores</th>\n",
       "    </tr>\n",
       "    <tr>\n",
       "      <th>Sentiment Metric</th>\n",
       "      <th></th>\n",
       "    </tr>\n",
       "  </thead>\n",
       "  <tbody>\n",
       "    <tr>\n",
       "      <th>Negative</th>\n",
       "      <td>0.0651</td>\n",
       "    </tr>\n",
       "    <tr>\n",
       "      <th>Neutral</th>\n",
       "      <td>0.8541</td>\n",
       "    </tr>\n",
       "    <tr>\n",
       "      <th>Positive</th>\n",
       "      <td>0.0808</td>\n",
       "    </tr>\n",
       "  </tbody>\n",
       "</table>\n",
       "</div>"
      ],
      "text/plain": [
       "                  Scores\n",
       "Sentiment Metric        \n",
       "Negative          0.0651\n",
       "Neutral           0.8541\n",
       "Positive          0.0808"
      ]
     },
     "execution_count": 30,
     "metadata": {},
     "output_type": "execute_result"
    }
   ],
   "source": [
    "#df2=getSentimentReport(chat2)\n",
    "#df2"
   ]
  },
  {
   "cell_type": "code",
   "execution_count": 13,
   "metadata": {},
   "outputs": [
    {
     "name": "stdout",
     "output_type": "stream",
     "text": [
      "--SENTIMENT REPORT--\n"
     ]
    },
    {
     "data": {
      "text/html": [
       "<div>\n",
       "<style scoped>\n",
       "    .dataframe tbody tr th:only-of-type {\n",
       "        vertical-align: middle;\n",
       "    }\n",
       "\n",
       "    .dataframe tbody tr th {\n",
       "        vertical-align: top;\n",
       "    }\n",
       "\n",
       "    .dataframe thead th {\n",
       "        text-align: right;\n",
       "    }\n",
       "</style>\n",
       "<table border=\"1\" class=\"dataframe\">\n",
       "  <thead>\n",
       "    <tr style=\"text-align: right;\">\n",
       "      <th></th>\n",
       "      <th>Scores</th>\n",
       "    </tr>\n",
       "    <tr>\n",
       "      <th>Sentiment Metric</th>\n",
       "      <th></th>\n",
       "    </tr>\n",
       "  </thead>\n",
       "  <tbody>\n",
       "    <tr>\n",
       "      <th>Negative</th>\n",
       "      <td>0.2635</td>\n",
       "    </tr>\n",
       "    <tr>\n",
       "      <th>Neutral</th>\n",
       "      <td>0.6508</td>\n",
       "    </tr>\n",
       "    <tr>\n",
       "      <th>Positive</th>\n",
       "      <td>0.0857</td>\n",
       "    </tr>\n",
       "  </tbody>\n",
       "</table>\n",
       "</div>"
      ],
      "text/plain": [
       "                  Scores\n",
       "Sentiment Metric        \n",
       "Negative          0.2635\n",
       "Neutral           0.6508\n",
       "Positive          0.0857"
      ]
     },
     "execution_count": 13,
     "metadata": {},
     "output_type": "execute_result"
    }
   ],
   "source": [
    "df=getSentimentReport(chat0)\n",
    "df"
   ]
  },
  {
   "cell_type": "markdown",
   "metadata": {},
   "source": [
    "**Solicitamos el informe de sentimiento de un chat.**"
   ]
  },
  {
   "cell_type": "code",
   "execution_count": 7,
   "metadata": {},
   "outputs": [],
   "source": [
    "url='http://localhost:8080/chat/0/sentiment'\n",
    "chat0=requests.get(url)"
   ]
  },
  {
   "cell_type": "code",
   "execution_count": null,
   "metadata": {},
   "outputs": [],
   "source": []
  },
  {
   "cell_type": "code",
   "execution_count": null,
   "metadata": {},
   "outputs": [],
   "source": []
  },
  {
   "cell_type": "markdown",
   "metadata": {},
   "source": [
    "### Post requests"
   ]
  },
  {
   "cell_type": "markdown",
   "metadata": {},
   "source": [
    "**Añadimos un usuario con un mensaje y todos los datos del documento.**"
   ]
  },
  {
   "cell_type": "code",
   "execution_count": 4,
   "metadata": {},
   "outputs": [],
   "source": [
    "url='http://localhost:8080/user/create'"
   ]
  },
  {
   "cell_type": "code",
   "execution_count": 5,
   "metadata": {},
   "outputs": [
    {
     "data": {
      "text/plain": [
       "<Response [200]>"
      ]
     },
     "execution_count": 5,
     "metadata": {},
     "output_type": "execute_result"
    }
   ],
   "source": [
    "new_us = {'userName': 'prueba sin mensaje'}\n",
    "\n",
    "requests.post(url, data=new_us)"
   ]
  },
  {
   "cell_type": "markdown",
   "metadata": {},
   "source": [
    "**Añadimos un usuario con un mensaje y todos los datos del documento.**"
   ]
  },
  {
   "cell_type": "code",
   "execution_count": 5,
   "metadata": {},
   "outputs": [],
   "source": [
    "url='http://localhost:8080/adduser'"
   ]
  },
  {
   "cell_type": "code",
   "execution_count": 6,
   "metadata": {},
   "outputs": [
    {
     "data": {
      "text/plain": [
       "<Response [200]>"
      ]
     },
     "execution_count": 6,
     "metadata": {},
     "output_type": "execute_result"
    }
   ],
   "source": [
    "new_doc = {'userName': 'prueba user2', \n",
    "            'text': \"dice cosas de nuevo\"}\n",
    "\n",
    "requests.post(url, data=new_doc)"
   ]
  },
  {
   "cell_type": "markdown",
   "metadata": {},
   "source": [
    "**Añadimos un usuario con un mensaje a un chat existente.**"
   ]
  },
  {
   "cell_type": "code",
   "execution_count": 7,
   "metadata": {},
   "outputs": [],
   "source": [
    "url='http://localhost:8080/chat/1/adduser'"
   ]
  },
  {
   "cell_type": "code",
   "execution_count": 9,
   "metadata": {},
   "outputs": [
    {
     "data": {
      "text/plain": [
       "<Response [200]>"
      ]
     },
     "execution_count": 9,
     "metadata": {},
     "output_type": "execute_result"
    }
   ],
   "source": [
    "new_doc = {'userName': 'Han Solo', \n",
    "            'text': \"So, Leia, you think a princess and a guy like me...\"}\n",
    "\n",
    "requests.post(url, data=new_doc)"
   ]
  },
  {
   "cell_type": "code",
   "execution_count": null,
   "metadata": {},
   "outputs": [],
   "source": []
  }
 ],
 "metadata": {
  "kernelspec": {
   "display_name": "Python 3",
   "language": "python",
   "name": "python3"
  },
  "language_info": {
   "codemirror_mode": {
    "name": "ipython",
    "version": 3
   },
   "file_extension": ".py",
   "mimetype": "text/x-python",
   "name": "python",
   "nbconvert_exporter": "python",
   "pygments_lexer": "ipython3",
   "version": "3.5.2"
  }
 },
 "nbformat": 4,
 "nbformat_minor": 2
}
