{
 "cells": [
  {
   "cell_type": "code",
   "execution_count": 1,
   "metadata": {},
   "outputs": [],
   "source": [
    "import requests"
   ]
  },
  {
   "cell_type": "markdown",
   "metadata": {},
   "source": [
    "### Get requests"
   ]
  },
  {
   "cell_type": "markdown",
   "metadata": {},
   "source": [
    "**Aquí pedimos todos los mensajes de un usuario**"
   ]
  },
  {
   "cell_type": "code",
   "execution_count": 3,
   "metadata": {},
   "outputs": [],
   "source": [
    "#data = requests.get('http://localhost:8080/John Wick').json()\n",
    "url='http://localhost:8080/Leia Organa'"
   ]
  },
  {
   "cell_type": "code",
   "execution_count": 4,
   "metadata": {},
   "outputs": [
    {
     "data": {
      "text/plain": [
       "[{'text': 'Im so angry right now!', 'userName': 'Leia Organa'},\n",
       " {'text': 'Impossible! Cant do it! Just cant! He pissed me off so much.',\n",
       "  'userName': 'Leia Organa'},\n",
       " {'text': 'But how am I suposed to fix the facial recognition system if it doesnt even work?',\n",
       "  'userName': 'Leia Organa'},\n",
       " {'text': 'And who the hell is Tony? \\U0001f92f️', 'userName': 'Leia Organa'},\n",
       " {'text': 'Oh shit. I think youre friends with my brother.',\n",
       "  'userName': 'Leia Organa'}]"
      ]
     },
     "execution_count": 4,
     "metadata": {},
     "output_type": "execute_result"
    }
   ],
   "source": [
    "requests.get(url).json()"
   ]
  },
  {
   "cell_type": "markdown",
   "metadata": {},
   "source": [
    "**Aquí pedimos todos los mensajes de un chat**"
   ]
  },
  {
   "cell_type": "code",
   "execution_count": 6,
   "metadata": {},
   "outputs": [
    {
     "data": {
      "text/plain": [
       "[{'text': 'I want pictures of Spiderman and I want them now!',\n",
       "  'userName': 'J. Jonah Jameson'},\n",
       " {'text': 'Sure, boss.', 'userName': 'John Wick'},\n",
       " {'text': 'Youve got to take me seriously.', 'userName': 'J. Jonah Jameson'},\n",
       " {'text': 'I do! I just dont feel appreciated in my job',\n",
       "  'userName': 'John Wick'},\n",
       " {'text': 'Thats why youve got to get those damm pictures!!',\n",
       "  'userName': 'J. Jonah Jameson'},\n",
       " {'text': 'I dunno...', 'userName': 'John Wick'},\n",
       " {'text': 'Get the god damn motherfucking fuckity fuck bloody ballsack pictures',\n",
       "  'userName': 'J. Jonah Jameson'},\n",
       " {'text': 'Maybe', 'userName': 'John Wick'},\n",
       " {'text': 'Youve got to! And I believe in you',\n",
       "  'userName': 'J. Jonah Jameson'},\n",
       " {'text': 'Thank you, boss! I feel much better...', 'userName': 'John Wick'}]"
      ]
     },
     "execution_count": 6,
     "metadata": {},
     "output_type": "execute_result"
    }
   ],
   "source": [
    "url='http://localhost:8080/chat/3/list'\n",
    "chat2=requests.get(url).json()\n",
    "chat2"
   ]
  },
  {
   "cell_type": "markdown",
   "metadata": {},
   "source": [
    "**Solicitamos el informe de sentimiento de un chat.**"
   ]
  },
  {
   "cell_type": "code",
   "execution_count": 7,
   "metadata": {},
   "outputs": [
    {
     "data": {
      "text/plain": [
       "<Response [200]>"
      ]
     },
     "execution_count": 7,
     "metadata": {},
     "output_type": "execute_result"
    }
   ],
   "source": [
    "url='http://localhost:8080/chat/4/sentiment'\n",
    "res=requests.get(url)\n",
    "res"
   ]
  },
  {
   "cell_type": "code",
   "execution_count": 8,
   "metadata": {},
   "outputs": [
    {
     "data": {
      "text/plain": [
       "{'Complete chat sentiment Metric': {'Negative': 0.14709999999999998,\n",
       "  'Neutral': 0.16599999999999998,\n",
       "  'Positive': 0.6869},\n",
       " 'Message 1 analysis': ['Danny Torrances Finger: REDRUM',\n",
       "  {'compound': 0.0, 'neg': 0.0, 'neu': 1.0, 'pos': 0.0}],\n",
       " 'Message 10 analysis': ['Danny Torrance: No! That places creeps me out..',\n",
       "  {'compound': -0.3595, 'neg': 0.333, 'neu': 0.667, 'pos': 0.0}],\n",
       " 'Message 2 analysis': ['Danny Torrance: What was that?',\n",
       "  {'compound': 0.0, 'neg': 0.0, 'neu': 1.0, 'pos': 0.0}],\n",
       " 'Message 3 analysis': ['Danny Torrances Finger: REDRUM REDRUM REDRUM',\n",
       "  {'compound': 0.0, 'neg': 0.0, 'neu': 1.0, 'pos': 0.0}],\n",
       " 'Message 4 analysis': ['Danny Torrance: Did you mean red room? Id love a red room.',\n",
       "  {'compound': 0.6369, 'neg': 0.0, 'neu': 0.656, 'pos': 0.344}],\n",
       " 'Message 5 analysis': ['Danny Torrances Finger: Murder, bro, cold blooded splashy murderous fun',\n",
       "  {'compound': -0.765, 'neg': 0.549, 'neu': 0.247, 'pos': 0.204}],\n",
       " 'Message 6 analysis': ['Danny Torrance: Chill out, pinky.. Its such a nice day',\n",
       "  {'compound': 0.4215, 'neg': 0.0, 'neu': 0.682, 'pos': 0.318}],\n",
       " 'Message 7 analysis': ['Danny Torrances Finger: A nice day to create havoc!',\n",
       "  {'compound': 0.0752, 'neg': 0.352, 'neu': 0.18, 'pos': 0.468}],\n",
       " 'Message 8 analysis': ['Danny Torrance: Ill go for a walk in the park, I guess. Maybe fishing',\n",
       "  {'compound': -0.4215, 'neg': 0.237, 'neu': 0.763, 'pos': 0.0}],\n",
       " 'Message 9 analysis': ['Danny Torrances Finger: Fishing sounds good. What about the labyrinth?',\n",
       "  {'compound': 0.4404, 'neg': 0.0, 'neu': 0.674, 'pos': 0.326}]}"
      ]
     },
     "execution_count": 8,
     "metadata": {},
     "output_type": "execute_result"
    }
   ],
   "source": [
    "report_chat=res.json()\n",
    "report_chat"
   ]
  },
  {
   "cell_type": "markdown",
   "metadata": {},
   "source": [
    "### Post requests"
   ]
  },
  {
   "cell_type": "markdown",
   "metadata": {},
   "source": [
    "**Añadimos un nuevo usuario con su mensaje y todos los datos del documento a la base de datos.**"
   ]
  },
  {
   "cell_type": "code",
   "execution_count": 2,
   "metadata": {},
   "outputs": [],
   "source": [
    "url='http://localhost:8080/user/create'"
   ]
  },
  {
   "cell_type": "code",
   "execution_count": 3,
   "metadata": {},
   "outputs": [
    {
     "data": {
      "text/plain": [
       "<Response [200]>"
      ]
     },
     "execution_count": 3,
     "metadata": {},
     "output_type": "execute_result"
    }
   ],
   "source": [
    "new_doc = {'userName': 'John Snow', \n",
    "            'text': \"You're right.\"}\n",
    "\n",
    "requests.post(url, data=new_doc)"
   ]
  },
  {
   "cell_type": "markdown",
   "metadata": {},
   "source": [
    "**Añadimos contenido a un chat: un mensaje de un usuario ya existente, o un nuevo usuario y su mensaje**"
   ]
  },
  {
   "cell_type": "code",
   "execution_count": 13,
   "metadata": {},
   "outputs": [],
   "source": [
    "url='http://localhost:8080/chat/5/add'"
   ]
  },
  {
   "cell_type": "code",
   "execution_count": 14,
   "metadata": {},
   "outputs": [
    {
     "data": {
      "text/plain": [
       "<Response [200]>"
      ]
     },
     "execution_count": 14,
     "metadata": {},
     "output_type": "execute_result"
    }
   ],
   "source": [
    "new_doc = {'userName': 'John Snow', \n",
    "            'text': \"Oh baby, I love this cave. Who cares about my Night's Watch oath?!\"}\n",
    "\n",
    "requests.post(url, data=new_doc)"
   ]
  },
  {
   "cell_type": "code",
   "execution_count": 11,
   "metadata": {},
   "outputs": [],
   "source": [
    "url='http://localhost:8080/chat/5/add'"
   ]
  },
  {
   "cell_type": "code",
   "execution_count": 12,
   "metadata": {},
   "outputs": [
    {
     "data": {
      "text/plain": [
       "<Response [200]>"
      ]
     },
     "execution_count": 12,
     "metadata": {},
     "output_type": "execute_result"
    }
   ],
   "source": [
    "new_doc = {'userName': 'Igritte', \n",
    "            'text': \"Oh, Jon, if we die we'll die, but first we'll live... kiss me now!\"}\n",
    "\n",
    "requests.post(url, data=new_doc)\n"
   ]
  },
  {
   "cell_type": "code",
   "execution_count": null,
   "metadata": {},
   "outputs": [],
   "source": []
  }
 ],
 "metadata": {
  "kernelspec": {
   "display_name": "Python 3",
   "language": "python",
   "name": "python3"
  },
  "language_info": {
   "codemirror_mode": {
    "name": "ipython",
    "version": 3
   },
   "file_extension": ".py",
   "mimetype": "text/x-python",
   "name": "python",
   "nbconvert_exporter": "python",
   "pygments_lexer": "ipython3",
   "version": "3.5.2"
  }
 },
 "nbformat": 4,
 "nbformat_minor": 2
}
