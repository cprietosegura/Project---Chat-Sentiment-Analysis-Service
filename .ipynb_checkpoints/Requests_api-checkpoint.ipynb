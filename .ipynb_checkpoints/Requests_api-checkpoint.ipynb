{
 "cells": [
  {
   "cell_type": "code",
   "execution_count": 1,
   "metadata": {},
   "outputs": [],
   "source": [
    "import requests\n",
    "import nltk \n",
    "from nltk.sentiment.vader import SentimentIntensityAnalyzer\n",
    "import pandas as pd"
   ]
  },
  {
   "cell_type": "markdown",
   "metadata": {},
   "source": [
    "### Get requests"
   ]
  },
  {
   "cell_type": "markdown",
   "metadata": {},
   "source": [
    "**Aquí pedimos todos los mensajes de un usuario**"
   ]
  },
  {
   "cell_type": "code",
   "execution_count": 2,
   "metadata": {},
   "outputs": [],
   "source": [
    "#data = requests.get('http://localhost:8080/John Wick').json()\n",
    "url='http://localhost:8080/John Wick'"
   ]
  },
  {
   "cell_type": "code",
   "execution_count": 3,
   "metadata": {},
   "outputs": [
    {
     "data": {
      "text/plain": [
       "[{'text': 'Hey Mike, whats up??', 'userName': 'John Wick'},\n",
       " {'text': 'No, had to work. How was it?', 'userName': 'John Wick'},\n",
       " {'text': 'No way! 😮️', 'userName': 'John Wick'},\n",
       " {'text': 'I bet people went crazy', 'userName': 'John Wick'},\n",
       " {'text': 'Motherfucker! Hungover? 😵️', 'userName': 'John Wick'},\n",
       " {'text': 'Sure, boss.', 'userName': 'John Wick'},\n",
       " {'text': 'I do! I just dont feel appreciated in my job',\n",
       "  'userName': 'John Wick'},\n",
       " {'text': 'I dunno...', 'userName': 'John Wick'},\n",
       " {'text': 'Maybe', 'userName': 'John Wick'},\n",
       " {'text': 'Thank you, boss! I feel much better...', 'userName': 'John Wick'}]"
      ]
     },
     "execution_count": 3,
     "metadata": {},
     "output_type": "execute_result"
    }
   ],
   "source": [
    "requests.get(url).json()"
   ]
  },
  {
   "cell_type": "markdown",
   "metadata": {},
   "source": [
    "**Aquí pedimos todos los mensajes de un chat**"
   ]
  },
  {
   "cell_type": "code",
   "execution_count": 2,
   "metadata": {},
   "outputs": [
    {
     "data": {
      "text/plain": [
       "[{'text': 'Sweety pie! How Ive longed to talk to you.',\n",
       "  'userName': 'Mike Wazowski'},\n",
       " {'text': 'Not again, Michael.... 😒️', 'userName': 'Ellen Ripley'},\n",
       " {'text': 'Its Mike, honey bunny. Or doctor LOVE! And youre a sick little girl.',\n",
       "  'userName': 'Mike Wazowski'},\n",
       " {'text': 'Im gonna report you to Human Resources again, Michael.',\n",
       "  'userName': 'Ellen Ripley'},\n",
       " {'text': 'Cant handle me on your own?', 'userName': 'Mike Wazowski'},\n",
       " {'text': 'Id rather have a fucking alien crawling out of my ass',\n",
       "  'userName': 'Ellen Ripley'},\n",
       " {'text': 'That would be hot... 🔥️', 'userName': 'Mike Wazowski'},\n",
       " {'text': 'Ok, youve got to stop drinking! Im calling HR.',\n",
       "  'userName': 'Ellen Ripley'},\n",
       " {'text': 'I NEED VODKA LIKE A CAR NEEDS GAS', 'userName': 'Mike Wazowski'},\n",
       " {'text': 'Dude... Alcoholics Anonymous: https://www.aa.org',\n",
       "  'userName': 'Ellen Ripley'}]"
      ]
     },
     "execution_count": 2,
     "metadata": {},
     "output_type": "execute_result"
    }
   ],
   "source": [
    "url='http://localhost:8080/chat/2/list'\n",
    "chat2=requests.get(url).json()\n",
    "chat2"
   ]
  },
  {
   "cell_type": "code",
   "execution_count": 3,
   "metadata": {},
   "outputs": [],
   "source": [
    "url='http://localhost:8080/chat/0/list'\n",
    "chat0=requests.get(url).json()"
   ]
  },
  {
   "cell_type": "code",
   "execution_count": 11,
   "metadata": {},
   "outputs": [
    {
     "data": {
      "text/plain": [
       "dict"
      ]
     },
     "execution_count": 11,
     "metadata": {},
     "output_type": "execute_result"
    }
   ],
   "source": [
    "type(chat0[0])"
   ]
  },
  {
   "cell_type": "code",
   "execution_count": 37,
   "metadata": {},
   "outputs": [],
   "source": [
    "sid = SentimentIntensityAnalyzer()\n",
    "scores={}\n",
    "for text in chat2:\n",
    "    #print(chat2.index(text))\n",
    "    scores['Message {} analysis'.format(chat2.index(text)+1)]=(text['userName']+': '+text['text']),(sid.polarity_scores(text['text']))"
   ]
  },
  {
   "cell_type": "code",
   "execution_count": 41,
   "metadata": {},
   "outputs": [
    {
     "data": {
      "text/plain": [
       "{'Message 1 analysis': ('Mike Wazowski: Sweety pie! How Ive longed to talk to you.',\n",
       "  {'compound': 0.0, 'neg': 0.0, 'neu': 1.0, 'pos': 0.0}),\n",
       " 'Message 10 analysis': ('Ellen Ripley: Dude... Alcoholics Anonymous: https://www.aa.org',\n",
       "  {'compound': 0.0, 'neg': 0.0, 'neu': 1.0, 'pos': 0.0}),\n",
       " 'Message 2 analysis': ('Ellen Ripley: Not again, Michael.... 😒️',\n",
       "  {'compound': 0.0, 'neg': 0.0, 'neu': 1.0, 'pos': 0.0}),\n",
       " 'Message 3 analysis': ('Mike Wazowski: Its Mike, honey bunny. Or doctor LOVE! And youre a sick little girl.',\n",
       "  {'compound': 0.4451, 'neg': 0.178, 'neu': 0.54, 'pos': 0.282}),\n",
       " 'Message 4 analysis': ('Ellen Ripley: Im gonna report you to Human Resources again, Michael.',\n",
       "  {'compound': 0.0, 'neg': 0.0, 'neu': 1.0, 'pos': 0.0}),\n",
       " 'Message 5 analysis': ('Mike Wazowski: Cant handle me on your own?',\n",
       "  {'compound': 0.0, 'neg': 0.0, 'neu': 1.0, 'pos': 0.0}),\n",
       " 'Message 6 analysis': ('Ellen Ripley: Id rather have a fucking alien crawling out of my ass',\n",
       "  {'compound': -0.5423, 'neg': 0.28, 'neu': 0.72, 'pos': 0.0}),\n",
       " 'Message 7 analysis': ('Mike Wazowski: That would be hot... 🔥️',\n",
       "  {'compound': 0.0, 'neg': 0.0, 'neu': 1.0, 'pos': 0.0}),\n",
       " 'Message 8 analysis': ('Ellen Ripley: Ok, youve got to stop drinking! Im calling HR.',\n",
       "  {'compound': 0.0, 'neg': 0.193, 'neu': 0.614, 'pos': 0.193}),\n",
       " 'Message 9 analysis': ('Mike Wazowski: I NEED VODKA LIKE A CAR NEEDS GAS',\n",
       "  {'compound': 0.3612, 'neg': 0.0, 'neu': 0.667, 'pos': 0.333})}"
      ]
     },
     "execution_count": 41,
     "metadata": {},
     "output_type": "execute_result"
    }
   ],
   "source": [
    "scores"
   ]
  },
  {
   "cell_type": "code",
   "execution_count": null,
   "metadata": {},
   "outputs": [],
   "source": []
  },
  {
   "cell_type": "code",
   "execution_count": 4,
   "metadata": {},
   "outputs": [
    {
     "data": {
      "text/html": [
       "<div>\n",
       "<style scoped>\n",
       "    .dataframe tbody tr th:only-of-type {\n",
       "        vertical-align: middle;\n",
       "    }\n",
       "\n",
       "    .dataframe tbody tr th {\n",
       "        vertical-align: top;\n",
       "    }\n",
       "\n",
       "    .dataframe thead th {\n",
       "        text-align: right;\n",
       "    }\n",
       "</style>\n",
       "<table border=\"1\" class=\"dataframe\">\n",
       "  <thead>\n",
       "    <tr style=\"text-align: right;\">\n",
       "      <th></th>\n",
       "      <th>Negative</th>\n",
       "      <th>Neutral</th>\n",
       "      <th>Positive</th>\n",
       "    </tr>\n",
       "  </thead>\n",
       "  <tbody>\n",
       "    <tr>\n",
       "      <th>0</th>\n",
       "      <td>0.000</td>\n",
       "      <td>1.000</td>\n",
       "      <td>0.000</td>\n",
       "    </tr>\n",
       "    <tr>\n",
       "      <th>1</th>\n",
       "      <td>0.000</td>\n",
       "      <td>1.000</td>\n",
       "      <td>0.000</td>\n",
       "    </tr>\n",
       "    <tr>\n",
       "      <th>2</th>\n",
       "      <td>0.178</td>\n",
       "      <td>0.540</td>\n",
       "      <td>0.282</td>\n",
       "    </tr>\n",
       "    <tr>\n",
       "      <th>3</th>\n",
       "      <td>0.000</td>\n",
       "      <td>1.000</td>\n",
       "      <td>0.000</td>\n",
       "    </tr>\n",
       "    <tr>\n",
       "      <th>4</th>\n",
       "      <td>0.000</td>\n",
       "      <td>1.000</td>\n",
       "      <td>0.000</td>\n",
       "    </tr>\n",
       "    <tr>\n",
       "      <th>5</th>\n",
       "      <td>0.280</td>\n",
       "      <td>0.720</td>\n",
       "      <td>0.000</td>\n",
       "    </tr>\n",
       "    <tr>\n",
       "      <th>6</th>\n",
       "      <td>0.000</td>\n",
       "      <td>1.000</td>\n",
       "      <td>0.000</td>\n",
       "    </tr>\n",
       "    <tr>\n",
       "      <th>7</th>\n",
       "      <td>0.193</td>\n",
       "      <td>0.614</td>\n",
       "      <td>0.193</td>\n",
       "    </tr>\n",
       "    <tr>\n",
       "      <th>8</th>\n",
       "      <td>0.000</td>\n",
       "      <td>0.667</td>\n",
       "      <td>0.333</td>\n",
       "    </tr>\n",
       "    <tr>\n",
       "      <th>9</th>\n",
       "      <td>0.000</td>\n",
       "      <td>1.000</td>\n",
       "      <td>0.000</td>\n",
       "    </tr>\n",
       "  </tbody>\n",
       "</table>\n",
       "</div>"
      ],
      "text/plain": [
       "   Negative  Neutral  Positive\n",
       "0     0.000    1.000     0.000\n",
       "1     0.000    1.000     0.000\n",
       "2     0.178    0.540     0.282\n",
       "3     0.000    1.000     0.000\n",
       "4     0.000    1.000     0.000\n",
       "5     0.280    0.720     0.000\n",
       "6     0.000    1.000     0.000\n",
       "7     0.193    0.614     0.193\n",
       "8     0.000    0.667     0.333\n",
       "9     0.000    1.000     0.000"
      ]
     },
     "execution_count": 4,
     "metadata": {},
     "output_type": "execute_result"
    }
   ],
   "source": [
    "df=pd.DataFrame(scores)\n",
    "df=df[['neg', 'neu', 'pos']]\n",
    "df=df.rename(columns={'neg':'Negative', 'neu':'Neutral', 'pos':'Positive'})\n",
    "df"
   ]
  },
  {
   "cell_type": "code",
   "execution_count": 5,
   "metadata": {},
   "outputs": [
    {
     "data": {
      "text/plain": [
       "Negative    0.0651\n",
       "Neutral     0.8541\n",
       "Positive    0.0808\n",
       "dtype: float64"
      ]
     },
     "execution_count": 5,
     "metadata": {},
     "output_type": "execute_result"
    }
   ],
   "source": [
    "means=df.mean(axis = 0) \n",
    "means"
   ]
  },
  {
   "cell_type": "code",
   "execution_count": 6,
   "metadata": {},
   "outputs": [],
   "source": [
    "df=pd.DataFrame(means)"
   ]
  },
  {
   "cell_type": "code",
   "execution_count": 7,
   "metadata": {},
   "outputs": [
    {
     "data": {
      "text/html": [
       "<div>\n",
       "<style scoped>\n",
       "    .dataframe tbody tr th:only-of-type {\n",
       "        vertical-align: middle;\n",
       "    }\n",
       "\n",
       "    .dataframe tbody tr th {\n",
       "        vertical-align: top;\n",
       "    }\n",
       "\n",
       "    .dataframe thead th {\n",
       "        text-align: right;\n",
       "    }\n",
       "</style>\n",
       "<table border=\"1\" class=\"dataframe\">\n",
       "  <thead>\n",
       "    <tr style=\"text-align: right;\">\n",
       "      <th></th>\n",
       "      <th>0</th>\n",
       "    </tr>\n",
       "  </thead>\n",
       "  <tbody>\n",
       "    <tr>\n",
       "      <th>Negative</th>\n",
       "      <td>0.0651</td>\n",
       "    </tr>\n",
       "    <tr>\n",
       "      <th>Neutral</th>\n",
       "      <td>0.8541</td>\n",
       "    </tr>\n",
       "    <tr>\n",
       "      <th>Positive</th>\n",
       "      <td>0.0808</td>\n",
       "    </tr>\n",
       "  </tbody>\n",
       "</table>\n",
       "</div>"
      ],
      "text/plain": [
       "               0\n",
       "Negative  0.0651\n",
       "Neutral   0.8541\n",
       "Positive  0.0808"
      ]
     },
     "execution_count": 7,
     "metadata": {},
     "output_type": "execute_result"
    }
   ],
   "source": [
    "df"
   ]
  },
  {
   "cell_type": "code",
   "execution_count": 8,
   "metadata": {},
   "outputs": [],
   "source": [
    "df.columns = ['Scores']\n",
    "df.index.name= 'Sentiment Metric'"
   ]
  },
  {
   "cell_type": "code",
   "execution_count": 9,
   "metadata": {},
   "outputs": [
    {
     "data": {
      "text/html": [
       "<div>\n",
       "<style scoped>\n",
       "    .dataframe tbody tr th:only-of-type {\n",
       "        vertical-align: middle;\n",
       "    }\n",
       "\n",
       "    .dataframe tbody tr th {\n",
       "        vertical-align: top;\n",
       "    }\n",
       "\n",
       "    .dataframe thead th {\n",
       "        text-align: right;\n",
       "    }\n",
       "</style>\n",
       "<table border=\"1\" class=\"dataframe\">\n",
       "  <thead>\n",
       "    <tr style=\"text-align: right;\">\n",
       "      <th></th>\n",
       "      <th>Scores</th>\n",
       "    </tr>\n",
       "    <tr>\n",
       "      <th>Sentiment Metric</th>\n",
       "      <th></th>\n",
       "    </tr>\n",
       "  </thead>\n",
       "  <tbody>\n",
       "    <tr>\n",
       "      <th>Negative</th>\n",
       "      <td>0.0651</td>\n",
       "    </tr>\n",
       "    <tr>\n",
       "      <th>Neutral</th>\n",
       "      <td>0.8541</td>\n",
       "    </tr>\n",
       "    <tr>\n",
       "      <th>Positive</th>\n",
       "      <td>0.0808</td>\n",
       "    </tr>\n",
       "  </tbody>\n",
       "</table>\n",
       "</div>"
      ],
      "text/plain": [
       "                  Scores\n",
       "Sentiment Metric        \n",
       "Negative          0.0651\n",
       "Neutral           0.8541\n",
       "Positive          0.0808"
      ]
     },
     "execution_count": 9,
     "metadata": {},
     "output_type": "execute_result"
    }
   ],
   "source": [
    "df"
   ]
  },
  {
   "cell_type": "code",
   "execution_count": 11,
   "metadata": {},
   "outputs": [
    {
     "data": {
      "text/plain": [
       "<bound method NDFrame.to_json of                   Scores\n",
       "Sentiment Metric        \n",
       "Negative          0.0651\n",
       "Neutral           0.8541\n",
       "Positive          0.0808>"
      ]
     },
     "execution_count": 11,
     "metadata": {},
     "output_type": "execute_result"
    }
   ],
   "source": [
    "df.to_json"
   ]
  },
  {
   "cell_type": "code",
   "execution_count": 13,
   "metadata": {},
   "outputs": [],
   "source": [
    "sentiment_json=df.to_json"
   ]
  },
  {
   "cell_type": "code",
   "execution_count": 14,
   "metadata": {},
   "outputs": [
    {
     "data": {
      "text/plain": [
       "<bound method NDFrame.to_json of                   Scores\n",
       "Sentiment Metric        \n",
       "Negative          0.0651\n",
       "Neutral           0.8541\n",
       "Positive          0.0808>"
      ]
     },
     "execution_count": 14,
     "metadata": {},
     "output_type": "execute_result"
    }
   ],
   "source": [
    "sentiment_json"
   ]
  },
  {
   "cell_type": "code",
   "execution_count": 29,
   "metadata": {},
   "outputs": [],
   "source": [
    "\"\"\"def getSentimentReport(chat):\n",
    "    sid = SentimentIntensityAnalyzer()\n",
    "    scores=[]\n",
    "    conversation=[]\n",
    "    for text in chat:\n",
    "        conversation.append(text['userName']+': '+text['text'])\n",
    "        scores.append(sid.polarity_scores(text['text']))\n",
    "    df=pd.DataFrame(scores)\n",
    "    df=df[['neg', 'neu', 'pos']]\n",
    "    df=df.rename(columns={'neg':'Negative', 'neu':'Neutral', 'pos':'Positive'})\n",
    "    means=df.mean(axis = 0) \n",
    "    df=pd.DataFrame(means)\n",
    "    df.columns = ['Scores']\n",
    "    df.index.name= 'Sentiment Metric'\n",
    "    print('--SENTIMENT REPORT--\\n')\n",
    "    print('The following conversation has been analyse using VADER \\n')\n",
    "    print(conversation)\n",
    "    return df\"\"\""
   ]
  },
  {
   "cell_type": "code",
   "execution_count": null,
   "metadata": {},
   "outputs": [],
   "source": []
  },
  {
   "cell_type": "code",
   "execution_count": null,
   "metadata": {},
   "outputs": [],
   "source": []
  },
  {
   "cell_type": "code",
   "execution_count": 30,
   "metadata": {},
   "outputs": [
    {
     "name": "stdout",
     "output_type": "stream",
     "text": [
      "--SENTIMENT REPORT--\n",
      "\n",
      "The following conversation has been analyse using VADER \n",
      "\n",
      "['Mike Wazowski: Sweety pie! How Ive longed to talk to you.', 'Ellen Ripley: Not again, Michael.... 😒️', 'Mike Wazowski: Its Mike, honey bunny. Or doctor LOVE! And youre a sick little girl.', 'Ellen Ripley: Im gonna report you to Human Resources again, Michael.', 'Mike Wazowski: Cant handle me on your own?', 'Ellen Ripley: Id rather have a fucking alien crawling out of my ass', 'Mike Wazowski: That would be hot... 🔥️', 'Ellen Ripley: Ok, youve got to stop drinking! Im calling HR.', 'Mike Wazowski: I NEED VODKA LIKE A CAR NEEDS GAS', 'Ellen Ripley: Dude... Alcoholics Anonymous: https://www.aa.org']\n"
     ]
    },
    {
     "data": {
      "text/html": [
       "<div>\n",
       "<style scoped>\n",
       "    .dataframe tbody tr th:only-of-type {\n",
       "        vertical-align: middle;\n",
       "    }\n",
       "\n",
       "    .dataframe tbody tr th {\n",
       "        vertical-align: top;\n",
       "    }\n",
       "\n",
       "    .dataframe thead th {\n",
       "        text-align: right;\n",
       "    }\n",
       "</style>\n",
       "<table border=\"1\" class=\"dataframe\">\n",
       "  <thead>\n",
       "    <tr style=\"text-align: right;\">\n",
       "      <th></th>\n",
       "      <th>Scores</th>\n",
       "    </tr>\n",
       "    <tr>\n",
       "      <th>Sentiment Metric</th>\n",
       "      <th></th>\n",
       "    </tr>\n",
       "  </thead>\n",
       "  <tbody>\n",
       "    <tr>\n",
       "      <th>Negative</th>\n",
       "      <td>0.0651</td>\n",
       "    </tr>\n",
       "    <tr>\n",
       "      <th>Neutral</th>\n",
       "      <td>0.8541</td>\n",
       "    </tr>\n",
       "    <tr>\n",
       "      <th>Positive</th>\n",
       "      <td>0.0808</td>\n",
       "    </tr>\n",
       "  </tbody>\n",
       "</table>\n",
       "</div>"
      ],
      "text/plain": [
       "                  Scores\n",
       "Sentiment Metric        \n",
       "Negative          0.0651\n",
       "Neutral           0.8541\n",
       "Positive          0.0808"
      ]
     },
     "execution_count": 30,
     "metadata": {},
     "output_type": "execute_result"
    }
   ],
   "source": [
    "#df2=getSentimentReport(chat2)\n",
    "#df2"
   ]
  },
  {
   "cell_type": "code",
   "execution_count": 13,
   "metadata": {},
   "outputs": [
    {
     "name": "stdout",
     "output_type": "stream",
     "text": [
      "--SENTIMENT REPORT--\n"
     ]
    },
    {
     "data": {
      "text/html": [
       "<div>\n",
       "<style scoped>\n",
       "    .dataframe tbody tr th:only-of-type {\n",
       "        vertical-align: middle;\n",
       "    }\n",
       "\n",
       "    .dataframe tbody tr th {\n",
       "        vertical-align: top;\n",
       "    }\n",
       "\n",
       "    .dataframe thead th {\n",
       "        text-align: right;\n",
       "    }\n",
       "</style>\n",
       "<table border=\"1\" class=\"dataframe\">\n",
       "  <thead>\n",
       "    <tr style=\"text-align: right;\">\n",
       "      <th></th>\n",
       "      <th>Scores</th>\n",
       "    </tr>\n",
       "    <tr>\n",
       "      <th>Sentiment Metric</th>\n",
       "      <th></th>\n",
       "    </tr>\n",
       "  </thead>\n",
       "  <tbody>\n",
       "    <tr>\n",
       "      <th>Negative</th>\n",
       "      <td>0.2635</td>\n",
       "    </tr>\n",
       "    <tr>\n",
       "      <th>Neutral</th>\n",
       "      <td>0.6508</td>\n",
       "    </tr>\n",
       "    <tr>\n",
       "      <th>Positive</th>\n",
       "      <td>0.0857</td>\n",
       "    </tr>\n",
       "  </tbody>\n",
       "</table>\n",
       "</div>"
      ],
      "text/plain": [
       "                  Scores\n",
       "Sentiment Metric        \n",
       "Negative          0.2635\n",
       "Neutral           0.6508\n",
       "Positive          0.0857"
      ]
     },
     "execution_count": 13,
     "metadata": {},
     "output_type": "execute_result"
    }
   ],
   "source": [
    "df=getSentimentReport(chat0)\n",
    "df"
   ]
  },
  {
   "cell_type": "markdown",
   "metadata": {},
   "source": [
    "**Solicitamos el informe de sentimiento de un chat.**"
   ]
  },
  {
   "cell_type": "code",
   "execution_count": 12,
   "metadata": {},
   "outputs": [
    {
     "data": {
      "text/plain": [
       "<Response [200]>"
      ]
     },
     "execution_count": 12,
     "metadata": {},
     "output_type": "execute_result"
    }
   ],
   "source": [
    "url='http://localhost:8080/chat/0/sentiment'\n",
    "res=requests.get(url)\n",
    "res"
   ]
  },
  {
   "cell_type": "code",
   "execution_count": 13,
   "metadata": {},
   "outputs": [
    {
     "data": {
      "text/plain": [
       "{'Message 1 analysis': ['John Wick: Hey Mike, whats up??',\n",
       "  {'compound': 0.0, 'neg': 0.0, 'neu': 1.0, 'pos': 0.0}],\n",
       " 'Message 10 analysis': ['Mike Wazowski: Dead, burried and still suffering! \\U0001f92e️',\n",
       "  {'compound': -0.8268, 'neg': 0.658, 'neu': 0.342, 'pos': 0.0}],\n",
       " 'Message 2 analysis': ['Mike Wazowski: Dude!!! 😀️ Did you watch the game last night?',\n",
       "  {'compound': 0.0, 'neg': 0.0, 'neu': 1.0, 'pos': 0.0}],\n",
       " 'Message 3 analysis': ['John Wick: No, had to work. How was it?',\n",
       "  {'compound': -0.296, 'neg': 0.268, 'neu': 0.732, 'pos': 0.0}],\n",
       " 'Message 4 analysis': ['Mike Wazowski: Awesome! Boyander scored 3 goals!',\n",
       "  {'compound': 0.6892, 'neg': 0.0, 'neu': 0.39, 'pos': 0.61}],\n",
       " 'Message 5 analysis': ['John Wick: No way! 😮️',\n",
       "  {'compound': -0.3595, 'neg': 0.555, 'neu': 0.445, 'pos': 0.0}],\n",
       " 'Message 6 analysis': ['Mike Wazowski: Way...',\n",
       "  {'compound': 0.0, 'neg': 0.0, 'neu': 1.0, 'pos': 0.0}],\n",
       " 'Message 7 analysis': ['John Wick: I bet people went crazy',\n",
       "  {'compound': -0.34, 'neg': 0.444, 'neu': 0.556, 'pos': 0.0}],\n",
       " 'Message 8 analysis': ['Mike Wazowski: For sure. We stayed at KuboLoco until 6AM.',\n",
       "  {'compound': 0.3182, 'neg': 0.0, 'neu': 0.753, 'pos': 0.247}],\n",
       " 'Message 9 analysis': ['John Wick: Motherfucker! Hungover? 😵️',\n",
       "  {'compound': -0.7088, 'neg': 0.71, 'neu': 0.29, 'pos': 0.0}]}"
      ]
     },
     "execution_count": 13,
     "metadata": {},
     "output_type": "execute_result"
    }
   ],
   "source": [
    "report_chat=res.json()\n",
    "report_chat"
   ]
  },
  {
   "cell_type": "code",
   "execution_count": 11,
   "metadata": {},
   "outputs": [],
   "source": []
  },
  {
   "cell_type": "markdown",
   "metadata": {},
   "source": [
    "### Post requests"
   ]
  },
  {
   "cell_type": "markdown",
   "metadata": {},
   "source": [
    "**Añadimos un usuario con un mensaje y todos los datos del documento.**"
   ]
  },
  {
   "cell_type": "code",
   "execution_count": 4,
   "metadata": {},
   "outputs": [],
   "source": [
    "url='http://localhost:8080/user/create'"
   ]
  },
  {
   "cell_type": "code",
   "execution_count": 5,
   "metadata": {},
   "outputs": [
    {
     "data": {
      "text/plain": [
       "<Response [200]>"
      ]
     },
     "execution_count": 5,
     "metadata": {},
     "output_type": "execute_result"
    }
   ],
   "source": [
    "new_us = {'userName': 'prueba sin mensaje'}\n",
    "\n",
    "requests.post(url, data=new_us)"
   ]
  },
  {
   "cell_type": "markdown",
   "metadata": {},
   "source": [
    "**Añadimos un usuario con un mensaje y todos los datos del documento.**"
   ]
  },
  {
   "cell_type": "code",
   "execution_count": 5,
   "metadata": {},
   "outputs": [],
   "source": [
    "url='http://localhost:8080/adduser'"
   ]
  },
  {
   "cell_type": "code",
   "execution_count": 6,
   "metadata": {},
   "outputs": [
    {
     "data": {
      "text/plain": [
       "<Response [200]>"
      ]
     },
     "execution_count": 6,
     "metadata": {},
     "output_type": "execute_result"
    }
   ],
   "source": [
    "new_doc = {'userName': 'prueba user2', \n",
    "            'text': \"dice cosas de nuevo\"}\n",
    "\n",
    "requests.post(url, data=new_doc)"
   ]
  },
  {
   "cell_type": "markdown",
   "metadata": {},
   "source": [
    "**Añadimos un usuario con un mensaje a un chat existente.**"
   ]
  },
  {
   "cell_type": "code",
   "execution_count": 7,
   "metadata": {},
   "outputs": [],
   "source": [
    "url='http://localhost:8080/chat/1/adduser'"
   ]
  },
  {
   "cell_type": "code",
   "execution_count": 9,
   "metadata": {},
   "outputs": [
    {
     "data": {
      "text/plain": [
       "<Response [200]>"
      ]
     },
     "execution_count": 9,
     "metadata": {},
     "output_type": "execute_result"
    }
   ],
   "source": [
    "new_doc = {'userName': 'Han Solo', \n",
    "            'text': \"So, Leia, you think a princess and a guy like me...\"}\n",
    "\n",
    "requests.post(url, data=new_doc)"
   ]
  },
  {
   "cell_type": "code",
   "execution_count": null,
   "metadata": {},
   "outputs": [],
   "source": []
  }
 ],
 "metadata": {
  "kernelspec": {
   "display_name": "Python 3",
   "language": "python",
   "name": "python3"
  },
  "language_info": {
   "codemirror_mode": {
    "name": "ipython",
    "version": 3
   },
   "file_extension": ".py",
   "mimetype": "text/x-python",
   "name": "python",
   "nbconvert_exporter": "python",
   "pygments_lexer": "ipython3",
   "version": "3.5.2"
  }
 },
 "nbformat": 4,
 "nbformat_minor": 2
}
