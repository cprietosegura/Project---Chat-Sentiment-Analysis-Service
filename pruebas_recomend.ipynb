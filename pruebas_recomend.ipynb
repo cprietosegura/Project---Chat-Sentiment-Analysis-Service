{
 "cells": [
  {
   "cell_type": "code",
   "execution_count": 3,
   "metadata": {},
   "outputs": [
    {
     "name": "stdout",
     "output_type": "stream",
     "text": [
      "John Wick                     Walter White\n",
      "John Snow                     Walter White\n",
      "Leia Organa                   Walter White\n",
      "Danny Torrance                Skyler White\n",
      "Ellen Ripley              J. Jonah Jameson\n",
      "Marty McFly                   Walter White\n",
      "J. Jonah Jameson              Walter White\n",
      "Skyler White                  Walter White\n",
      "Mike Wazowski                 Walter White\n",
      "Han Solo                      Walter White\n",
      "Walter White                  Skyler White\n",
      "Tony Stark                    Walter White\n",
      "Igritte                       Skyler White\n",
      "Danny Torrances Finger        Walter White\n",
      "dtype: object\n"
     ]
    }
   ],
   "source": [
    "import requests\n",
    "import nltk \n",
    "from nltk.sentiment.vader import SentimentIntensityAnalyzer\n",
    "import pandas as pd\n",
    "from sklearn.feature_extraction.text import CountVectorizer\n",
    "from sklearn.metrics.pairwise import cosine_similarity as distance\n",
    "import numpy as np\n",
    "import seaborn as sns\n",
    "\n",
    "def getUserList(url):\n",
    "    res=requests.get(url)\n",
    "    users=res.json()\n",
    "    lista_users=[]\n",
    "    for u in users:\n",
    "        lista_users.append(u['userName'])\n",
    "    lista_users=list(set(lista_users))\n",
    "    return lista_users\n",
    "\n",
    "url='http://localhost:8080/users'\n",
    "lista_users=getUserList(url)\n",
    "\n",
    "def getUsersMessages(lista):\n",
    "    all_usermess=[]\n",
    "    for l in lista:\n",
    "        url='http://localhost:8080/{}'.format(l)\n",
    "        all_usermess.append(requests.get(url).json())\n",
    "    return all_usermess\n",
    "\n",
    "all_usermess=getUsersMessages(lista_users)\n",
    "\n",
    "def getUsMessages(username):\n",
    "    userconv={}\n",
    "    conv=\"\"\n",
    "    for user in username:\n",
    "        conv+=user['text']\n",
    "        userconv[user['userName']]=conv\n",
    "    return userconv\n",
    "\n",
    "todo=[]\n",
    "for u in all_usermess:\n",
    "    e=getUsMessages(u)\n",
    "    todo.append(e)\n",
    "dic_users={}\n",
    "for dic in todo:\n",
    "    keys=list(dic.keys())\n",
    "    values=list(dic.values())\n",
    "    dic_users[keys[0]]=values[0]\n",
    "        \n",
    "\n",
    "def recomendations(dic):\n",
    "    count_vectorizer = CountVectorizer()\n",
    "    sparse_matrix = count_vectorizer.fit_transform(dic.values())\n",
    "    doc_term_matrix = sparse_matrix.todense()\n",
    "    df = pd.DataFrame(doc_term_matrix, \n",
    "                    columns=count_vectorizer.get_feature_names(), \n",
    "                    index=dic.keys())\n",
    "    similarity_matrix = distance(df, df)\n",
    "    sim_df = pd.DataFrame(similarity_matrix, columns=dic.keys(), index=dic.keys())\n",
    "    sns.heatmap(sim_df,annot=True)\n",
    "    np.fill_diagonal(sim_df.values, 0)\n",
    "    recomendations=sim_df.idxmax()\n",
    "    return recomendations\n",
    "\n",
    "rec=recomendations(dic_users)\n",
    "print(rec)"
   ]
  },
  {
   "cell_type": "code",
   "execution_count": 4,
   "metadata": {},
   "outputs": [
    {
     "data": {
      "text/plain": [
       "pandas.core.series.Series"
      ]
     },
     "execution_count": 4,
     "metadata": {},
     "output_type": "execute_result"
    }
   ],
   "source": [
    "type(rec)"
   ]
  },
  {
   "cell_type": "code",
   "execution_count": 5,
   "metadata": {},
   "outputs": [
    {
     "data": {
      "text/plain": [
       "'Walter White'"
      ]
     },
     "execution_count": 5,
     "metadata": {},
     "output_type": "execute_result"
    }
   ],
   "source": [
    "rec.loc['John Wick']"
   ]
  },
  {
   "cell_type": "code",
   "execution_count": 6,
   "metadata": {},
   "outputs": [
    {
     "data": {
      "text/plain": [
       "{'recomendation': 'Walter White'}"
      ]
     },
     "execution_count": 6,
     "metadata": {},
     "output_type": "execute_result"
    }
   ],
   "source": [
    "dic={}\n",
    "dic['recomendation']=rec.loc['John Wick']\n",
    "dic"
   ]
  },
  {
   "cell_type": "code",
   "execution_count": null,
   "metadata": {},
   "outputs": [],
   "source": []
  }
 ],
 "metadata": {
  "kernelspec": {
   "display_name": "Python 3",
   "language": "python",
   "name": "python3"
  },
  "language_info": {
   "codemirror_mode": {
    "name": "ipython",
    "version": 3
   },
   "file_extension": ".py",
   "mimetype": "text/x-python",
   "name": "python",
   "nbconvert_exporter": "python",
   "pygments_lexer": "ipython3",
   "version": "3.5.2"
  }
 },
 "nbformat": 4,
 "nbformat_minor": 2
}
