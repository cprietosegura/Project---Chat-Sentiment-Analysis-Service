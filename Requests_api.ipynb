{
 "cells": [
  {
   "cell_type": "code",
   "execution_count": 1,
   "metadata": {},
   "outputs": [],
   "source": [
    "import requests"
   ]
  },
  {
   "cell_type": "markdown",
   "metadata": {},
   "source": [
    "### Get requests"
   ]
  },
  {
   "cell_type": "markdown",
   "metadata": {},
   "source": [
    "**Aquí pedimos todos los mensajes de un usuario**"
   ]
  },
  {
   "cell_type": "code",
   "execution_count": 11,
   "metadata": {},
   "outputs": [],
   "source": [
    "url='http://localhost:8080/Daenerys Targaryen'"
   ]
  },
  {
   "cell_type": "code",
   "execution_count": 12,
   "metadata": {},
   "outputs": [
    {
     "data": {
      "text/plain": [
       "[{'text': \"I'm not a princess, I'm a Khalessi.\",\n",
       "  'userName': 'Daenerys Targaryen'},\n",
       " {'text': \"I am the dragon's daughter, and I swear to you that those who would harm you will die screaming.\",\n",
       "  'userName': 'Daenerys Targaryen'},\n",
       " {'text': 'Dracarys', 'userName': 'Daenerys Targaryen'}]"
      ]
     },
     "execution_count": 12,
     "metadata": {},
     "output_type": "execute_result"
    }
   ],
   "source": [
    "requests.get(url).json()"
   ]
  },
  {
   "cell_type": "markdown",
   "metadata": {},
   "source": [
    "**Aquí pedimos todos los mensajes de un chat**"
   ]
  },
  {
   "cell_type": "code",
   "execution_count": 4,
   "metadata": {},
   "outputs": [
    {
     "data": {
      "text/plain": [
       "[{'text': 'I want pictures of Spiderman and I want them now!',\n",
       "  'userName': 'J. Jonah Jameson'},\n",
       " {'text': 'Sure, boss.', 'userName': 'John Wick'},\n",
       " {'text': 'Youve got to take me seriously.', 'userName': 'J. Jonah Jameson'},\n",
       " {'text': 'I do! I just dont feel appreciated in my job',\n",
       "  'userName': 'John Wick'},\n",
       " {'text': 'Thats why youve got to get those damm pictures!!',\n",
       "  'userName': 'J. Jonah Jameson'},\n",
       " {'text': 'I dunno...', 'userName': 'John Wick'},\n",
       " {'text': 'Get the god damn motherfucking fuckity fuck bloody ballsack pictures',\n",
       "  'userName': 'J. Jonah Jameson'},\n",
       " {'text': 'Maybe', 'userName': 'John Wick'},\n",
       " {'text': 'Youve got to! And I believe in you',\n",
       "  'userName': 'J. Jonah Jameson'},\n",
       " {'text': 'Thank you, boss! I feel much better...', 'userName': 'John Wick'}]"
      ]
     },
     "execution_count": 4,
     "metadata": {},
     "output_type": "execute_result"
    }
   ],
   "source": [
    "url='http://localhost:8080/chat/3/list'\n",
    "chat2=requests.get(url).json()\n",
    "chat2"
   ]
  },
  {
   "cell_type": "markdown",
   "metadata": {},
   "source": [
    "**Obtenemos todos los usuarios de la base de datos**"
   ]
  },
  {
   "cell_type": "code",
   "execution_count": 4,
   "metadata": {},
   "outputs": [
    {
     "data": {
      "text/plain": [
       "['John Wick',\n",
       " 'Mike Wazowski',\n",
       " 'Leia Organa',\n",
       " 'Tony Stark',\n",
       " 'Ellen Ripley',\n",
       " 'J. Jonah Jameson',\n",
       " 'Danny Torrances Finger',\n",
       " 'Danny Torrance',\n",
       " 'Han Solo',\n",
       " 'Igritte',\n",
       " 'Marty McFly',\n",
       " 'John Snow',\n",
       " 'Skyler White',\n",
       " 'Walter White',\n",
       " 'Daenerys Targaryen',\n",
       " 'Jorah Mormont',\n",
       " 'Tyrion Lannister']"
      ]
     },
     "execution_count": 4,
     "metadata": {},
     "output_type": "execute_result"
    }
   ],
   "source": [
    "url='http://localhost:8080/users'\n",
    "users=requests.get(url).json()\n",
    "users"
   ]
  },
  {
   "cell_type": "markdown",
   "metadata": {},
   "source": [
    "**Solicitamos el informe de sentimiento de un chat.**"
   ]
  },
  {
   "cell_type": "code",
   "execution_count": 4,
   "metadata": {},
   "outputs": [
    {
     "data": {
      "text/plain": [
       "<Response [200]>"
      ]
     },
     "execution_count": 4,
     "metadata": {},
     "output_type": "execute_result"
    }
   ],
   "source": [
    "url='http://localhost:8080/chat/6/sentiment'\n",
    "res=requests.get(url)\n",
    "res"
   ]
  },
  {
   "cell_type": "code",
   "execution_count": 5,
   "metadata": {},
   "outputs": [
    {
     "data": {
      "text/plain": [
       "{'Complete chat sentiment Metric': {'Negative': 0.1749,\n",
       "  'Neutral': 0.7335,\n",
       "  'Positive': 0.0914},\n",
       " 'Message 1 analysis': [\"Skyler White: Walt, I've said it before. If you are in danger, we go to the police...\",\n",
       "  {'compound': -0.5267, 'neg': 0.195, 'neu': 0.805, 'pos': 0.0}],\n",
       " 'Message 10 analysis': [\"Walter White: Who are you talking to right now? Who is it you think you see? Do you know how much I make a year? I mean, even if I told you, you wouldn't believe it. Do you know what would happen if I suddenly decided to stop going into work? A business big enough that it could be listed on the NASDAQ goes belly-up - disappears. It ceases to exist without me. No. You clearly don't know who you're talking to, so let me clue you in. I am not in danger, Skyler. I am the danger. A guy opens his door and gets shot, and you think that of me? No. I am the one who knocks.\",\n",
       "  {'compound': 0.812, 'neg': 0.039, 'neu': 0.849, 'pos': 0.111}],\n",
       " 'Message 2 analysis': [\"Walter White: Oh, no. I don't want to hear about the police.\",\n",
       "  {'compound': -0.3447, 'neg': 0.328, 'neu': 0.672, 'pos': 0.0}],\n",
       " 'Message 3 analysis': [\"Skyler White: I do not say that lightly. I know what it could do to this family. But if it's the only real choice we have - if it's either that or you getting shot when you open your front door...\",\n",
       "  {'compound': 0.0, 'neg': 0.0, 'neu': 1.0, 'pos': 0.0}],\n",
       " 'Message 4 analysis': [\"Walter White: I don't want to hear about the police.\",\n",
       "  {'compound': -0.0572, 'neg': 0.169, 'neu': 0.831, 'pos': 0.0}],\n",
       " 'Message 5 analysis': [\"Skyler White: You're not some hardened criminal, Walt. You are in over your head. That's what we tell them, and that's the truth.\",\n",
       "  {'compound': 0.6219, 'neg': 0.0, 'neu': 0.789, 'pos': 0.211}],\n",
       " 'Message 6 analysis': [\"Walter White: That's not the truth.\",\n",
       "  {'compound': -0.2411, 'neg': 0.395, 'neu': 0.605, 'pos': 0.0}],\n",
       " 'Message 7 analysis': ['Skyler White: Of course it is. Schoolteacher, cancer, desperate for money...',\n",
       "  {'compound': -0.7717, 'neg': 0.489, 'neu': 0.511, 'pos': 0.0}],\n",
       " 'Message 8 analysis': [\"Walter White: OK, we're done here.\",\n",
       "  {'compound': 0.4466, 'neg': 0.0, 'neu': 0.506, 'pos': 0.494}],\n",
       " 'Message 9 analysis': [\"Skyler White: Roped into working for - unable to even quit. You told me that yourself, Walt. Jesus, what was I thinking? Walt, please, let's both of us stop trying to justify this whole thing and admit you're in danger.\",\n",
       "  {'compound': -0.3612, 'neg': 0.134, 'neu': 0.767, 'pos': 0.098}]}"
      ]
     },
     "execution_count": 5,
     "metadata": {},
     "output_type": "execute_result"
    }
   ],
   "source": [
    "report_chat=res.json()\n",
    "report_chat"
   ]
  },
  {
   "cell_type": "markdown",
   "metadata": {},
   "source": [
    "### Post requests"
   ]
  },
  {
   "cell_type": "markdown",
   "metadata": {},
   "source": [
    "**Añadimos un nuevo usuario con su mensaje y todos los datos del documento a la base de datos.**"
   ]
  },
  {
   "cell_type": "code",
   "execution_count": 8,
   "metadata": {},
   "outputs": [],
   "source": [
    "url='http://localhost:8080/user/create'"
   ]
  },
  {
   "cell_type": "code",
   "execution_count": 9,
   "metadata": {},
   "outputs": [
    {
     "data": {
      "text/plain": [
       "<Response [200]>"
      ]
     },
     "execution_count": 9,
     "metadata": {},
     "output_type": "execute_result"
    }
   ],
   "source": [
    "new_doc = {'userName': 'Tyrion Lannister', \n",
    "            'text': \"Never forget what you are, the rest of the world will not. Wear it like armor and it can never be used to hurt you.\"}\n",
    "\n",
    "requests.post(url, data=new_doc)"
   ]
  },
  {
   "cell_type": "markdown",
   "metadata": {},
   "source": [
    "**Añadimos contenido a un chat: un mensaje de un usuario ya existente, o un nuevo usuario y su mensaje**"
   ]
  },
  {
   "cell_type": "code",
   "execution_count": 10,
   "metadata": {},
   "outputs": [],
   "source": [
    "url='http://localhost:8080/chat/7/add'"
   ]
  },
  {
   "cell_type": "code",
   "execution_count": 11,
   "metadata": {},
   "outputs": [
    {
     "data": {
      "text/plain": [
       "<Response [200]>"
      ]
     },
     "execution_count": 11,
     "metadata": {},
     "output_type": "execute_result"
    }
   ],
   "source": [
    "new_doc = {'userName': 'Jorah Mormont', \n",
    "            'text': \"Yes, my Khaleesi.\"}\n",
    "\n",
    "requests.post(url, data=new_doc)"
   ]
  },
  {
   "cell_type": "code",
   "execution_count": 9,
   "metadata": {},
   "outputs": [],
   "source": [
    "url='http://localhost:8080/chat/7/add'"
   ]
  },
  {
   "cell_type": "code",
   "execution_count": 10,
   "metadata": {},
   "outputs": [
    {
     "data": {
      "text/plain": [
       "<Response [200]>"
      ]
     },
     "execution_count": 10,
     "metadata": {},
     "output_type": "execute_result"
    }
   ],
   "source": [
    "new_doc = {'userName': 'Daenerys Targaryen', \n",
    "            'text': \"Dracarys\"}\n",
    "\n",
    "requests.post(url, data=new_doc)\n"
   ]
  },
  {
   "cell_type": "code",
   "execution_count": null,
   "metadata": {},
   "outputs": [],
   "source": []
  }
 ],
 "metadata": {
  "kernelspec": {
   "display_name": "Python 3",
   "language": "python",
   "name": "python3"
  },
  "language_info": {
   "codemirror_mode": {
    "name": "ipython",
    "version": 3
   },
   "file_extension": ".py",
   "mimetype": "text/x-python",
   "name": "python",
   "nbconvert_exporter": "python",
   "pygments_lexer": "ipython3",
   "version": "3.5.2"
  }
 },
 "nbformat": 4,
 "nbformat_minor": 2
}
