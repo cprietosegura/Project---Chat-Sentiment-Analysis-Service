{
 "cells": [
  {
   "cell_type": "code",
   "execution_count": 1,
   "metadata": {},
   "outputs": [],
   "source": [
    "import requests"
   ]
  },
  {
   "cell_type": "markdown",
   "metadata": {},
   "source": [
    "### Get requests"
   ]
  },
  {
   "cell_type": "markdown",
   "metadata": {},
   "source": [
    "**Aquí pedimos todos los mensajes de un usuario**"
   ]
  },
  {
   "cell_type": "code",
   "execution_count": 2,
   "metadata": {},
   "outputs": [],
   "source": [
    "#data = requests.get('http://localhost:8080/John Wick').json()\n",
    "url='http://localhost:8080/John Wick'"
   ]
  },
  {
   "cell_type": "code",
   "execution_count": 3,
   "metadata": {},
   "outputs": [
    {
     "data": {
      "text/plain": [
       "[{'text': 'Hey Mike, whats up??', 'userName': 'John Wick'},\n",
       " {'text': 'No, had to work. How was it?', 'userName': 'John Wick'},\n",
       " {'text': 'No way! 😮️', 'userName': 'John Wick'},\n",
       " {'text': 'I bet people went crazy', 'userName': 'John Wick'},\n",
       " {'text': 'Motherfucker! Hungover? 😵️', 'userName': 'John Wick'},\n",
       " {'text': 'Sure, boss.', 'userName': 'John Wick'},\n",
       " {'text': 'I do! I just dont feel appreciated in my job',\n",
       "  'userName': 'John Wick'},\n",
       " {'text': 'I dunno...', 'userName': 'John Wick'},\n",
       " {'text': 'Maybe', 'userName': 'John Wick'},\n",
       " {'text': 'Thank you, boss! I feel much better...', 'userName': 'John Wick'}]"
      ]
     },
     "execution_count": 3,
     "metadata": {},
     "output_type": "execute_result"
    }
   ],
   "source": [
    "requests.get(url).json()"
   ]
  },
  {
   "cell_type": "markdown",
   "metadata": {},
   "source": [
    "**Aquí pedimos todos los mensajes de un chat**"
   ]
  },
  {
   "cell_type": "code",
   "execution_count": 2,
   "metadata": {},
   "outputs": [
    {
     "data": {
      "text/plain": [
       "[{'text': 'REDRUM', 'userName': 'Danny Torrances Finger'},\n",
       " {'text': 'What was that?', 'userName': 'Danny Torrance'},\n",
       " {'text': 'REDRUM REDRUM REDRUM', 'userName': 'Danny Torrances Finger'},\n",
       " {'text': 'Did you mean red room? Id love a red room.',\n",
       "  'userName': 'Danny Torrance'},\n",
       " {'text': 'Murder, bro, cold blooded splashy murderous fun',\n",
       "  'userName': 'Danny Torrances Finger'},\n",
       " {'text': 'Chill out, pinky.. Its such a nice day',\n",
       "  'userName': 'Danny Torrance'},\n",
       " {'text': 'A nice day to create havoc!', 'userName': 'Danny Torrances Finger'},\n",
       " {'text': 'Ill go for a walk in the park, I guess. Maybe fishing',\n",
       "  'userName': 'Danny Torrance'},\n",
       " {'text': 'Fishing sounds good. What about the labyrinth?',\n",
       "  'userName': 'Danny Torrances Finger'},\n",
       " {'text': 'No! That places creeps me out..', 'userName': 'Danny Torrance'}]"
      ]
     },
     "execution_count": 2,
     "metadata": {},
     "output_type": "execute_result"
    }
   ],
   "source": [
    "url='http://localhost:8080/chat/4/list'\n",
    "chat2=requests.get(url).json()\n",
    "chat2"
   ]
  },
  {
   "cell_type": "markdown",
   "metadata": {},
   "source": [
    "**Solicitamos el informe de sentimiento de un chat.**"
   ]
  },
  {
   "cell_type": "code",
   "execution_count": 4,
   "metadata": {},
   "outputs": [
    {
     "data": {
      "text/plain": [
       "<Response [200]>"
      ]
     },
     "execution_count": 4,
     "metadata": {},
     "output_type": "execute_result"
    }
   ],
   "source": [
    "url='http://localhost:8080/chat/2/sentiment'\n",
    "res=requests.get(url)\n",
    "res"
   ]
  },
  {
   "cell_type": "code",
   "execution_count": 5,
   "metadata": {},
   "outputs": [
    {
     "data": {
      "text/plain": [
       "{'Complete chat sentiment Metric': {'Negative': 0.0651,\n",
       "  'Neutral': 0.08080000000000001,\n",
       "  'Positive': 0.8541000000000001},\n",
       " 'Message 1 analysis': ['Mike Wazowski: Sweety pie! How Ive longed to talk to you.',\n",
       "  {'compound': 0.0, 'neg': 0.0, 'neu': 1.0, 'pos': 0.0}],\n",
       " 'Message 10 analysis': ['Ellen Ripley: Dude... Alcoholics Anonymous: https://www.aa.org',\n",
       "  {'compound': 0.0, 'neg': 0.0, 'neu': 1.0, 'pos': 0.0}],\n",
       " 'Message 2 analysis': ['Ellen Ripley: Not again, Michael.... 😒️',\n",
       "  {'compound': 0.0, 'neg': 0.0, 'neu': 1.0, 'pos': 0.0}],\n",
       " 'Message 3 analysis': ['Mike Wazowski: Its Mike, honey bunny. Or doctor LOVE! And youre a sick little girl.',\n",
       "  {'compound': 0.4451, 'neg': 0.178, 'neu': 0.54, 'pos': 0.282}],\n",
       " 'Message 4 analysis': ['Ellen Ripley: Im gonna report you to Human Resources again, Michael.',\n",
       "  {'compound': 0.0, 'neg': 0.0, 'neu': 1.0, 'pos': 0.0}],\n",
       " 'Message 5 analysis': ['Mike Wazowski: Cant handle me on your own?',\n",
       "  {'compound': 0.0, 'neg': 0.0, 'neu': 1.0, 'pos': 0.0}],\n",
       " 'Message 6 analysis': ['Ellen Ripley: Id rather have a fucking alien crawling out of my ass',\n",
       "  {'compound': -0.5423, 'neg': 0.28, 'neu': 0.72, 'pos': 0.0}],\n",
       " 'Message 7 analysis': ['Mike Wazowski: That would be hot... 🔥️',\n",
       "  {'compound': 0.0, 'neg': 0.0, 'neu': 1.0, 'pos': 0.0}],\n",
       " 'Message 8 analysis': ['Ellen Ripley: Ok, youve got to stop drinking! Im calling HR.',\n",
       "  {'compound': 0.0, 'neg': 0.193, 'neu': 0.614, 'pos': 0.193}],\n",
       " 'Message 9 analysis': ['Mike Wazowski: I NEED VODKA LIKE A CAR NEEDS GAS',\n",
       "  {'compound': 0.3612, 'neg': 0.0, 'neu': 0.667, 'pos': 0.333}]}"
      ]
     },
     "execution_count": 5,
     "metadata": {},
     "output_type": "execute_result"
    }
   ],
   "source": [
    "report_chat=res.json()\n",
    "report_chat"
   ]
  },
  {
   "cell_type": "markdown",
   "metadata": {},
   "source": [
    "### Post requests"
   ]
  },
  {
   "cell_type": "markdown",
   "metadata": {},
   "source": [
    "**Añadimos un nuevo usuario con su mensaje y todos los datos del documento a la base de datos.**"
   ]
  },
  {
   "cell_type": "code",
   "execution_count": 2,
   "metadata": {},
   "outputs": [],
   "source": [
    "url='http://localhost:8080/user/create'"
   ]
  },
  {
   "cell_type": "code",
   "execution_count": 3,
   "metadata": {},
   "outputs": [
    {
     "data": {
      "text/plain": [
       "<Response [200]>"
      ]
     },
     "execution_count": 3,
     "metadata": {},
     "output_type": "execute_result"
    }
   ],
   "source": [
    "new_doc = {'userName': 'Igritte', \n",
    "            'text': \"You know nothing Jon Snow\"}\n",
    "\n",
    "requests.post(url, data=new_doc)"
   ]
  },
  {
   "cell_type": "markdown",
   "metadata": {},
   "source": [
    "**Añadimos un usuario con un mensaje a un chat existente.**"
   ]
  },
  {
   "cell_type": "code",
   "execution_count": 7,
   "metadata": {},
   "outputs": [],
   "source": [
    "url='http://localhost:8080/chat/1/adduser'"
   ]
  },
  {
   "cell_type": "code",
   "execution_count": 9,
   "metadata": {},
   "outputs": [
    {
     "data": {
      "text/plain": [
       "<Response [200]>"
      ]
     },
     "execution_count": 9,
     "metadata": {},
     "output_type": "execute_result"
    }
   ],
   "source": [
    "new_doc = {'userName': 'Han Solo', \n",
    "            'text': \"So, Leia, you think a princess and a guy like me...\"}\n",
    "\n",
    "requests.post(url, data=new_doc)"
   ]
  },
  {
   "cell_type": "code",
   "execution_count": null,
   "metadata": {},
   "outputs": [],
   "source": []
  }
 ],
 "metadata": {
  "kernelspec": {
   "display_name": "Python 3",
   "language": "python",
   "name": "python3"
  },
  "language_info": {
   "codemirror_mode": {
    "name": "ipython",
    "version": 3
   },
   "file_extension": ".py",
   "mimetype": "text/x-python",
   "name": "python",
   "nbconvert_exporter": "python",
   "pygments_lexer": "ipython3",
   "version": "3.5.2"
  }
 },
 "nbformat": 4,
 "nbformat_minor": 2
}
