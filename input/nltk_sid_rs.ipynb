{
 "cells": [
  {
   "cell_type": "markdown",
   "metadata": {},
   "source": [
    "### Sentiment Analysis"
   ]
  },
  {
   "cell_type": "code",
   "execution_count": 1,
   "metadata": {},
   "outputs": [],
   "source": [
    "# https://medium.com/@b.terryjack/nlp-pre-trained-sentiment-analysis-1eb52a9d742c"
   ]
  },
  {
   "cell_type": "code",
   "execution_count": 7,
   "metadata": {},
   "outputs": [
    {
     "data": {
      "text/plain": [
       "{'compound': -0.5719, 'neg': 1.0, 'neu': 0.0, 'pos': 0.0}"
      ]
     },
     "execution_count": 7,
     "metadata": {},
     "output_type": "execute_result"
    }
   ],
   "source": [
    "# https://www.nltk.org/api/nltk.sentiment.html\n",
    "\n",
    "import nltk # install nltk\n",
    "from nltk.sentiment.vader import SentimentIntensityAnalyzer\n",
    "\n",
    "sid = SentimentIntensityAnalyzer()\n",
    "\n",
    "sid.polarity_scores(\"horror\")"
   ]
  },
  {
   "cell_type": "code",
   "execution_count": 2,
   "metadata": {},
   "outputs": [
    {
     "name": "stdout",
     "output_type": "stream",
     "text": [
      "neutral: {'pos': 0.0, 'neu': 1.0, 'compound': 0.0, 'neg': 0.0}\n",
      "neu_sentence: {'pos': 0.487, 'neu': 0.513, 'compound': 0.6901, 'neg': 0.0}\n",
      "negated_words: {'pos': 0.0, 'neu': 0.4, 'compound': -0.4585, 'neg': 0.6}\n",
      "pos_sentence: {'pos': 1.0, 'neu': 0.0, 'compound': 0.6239, 'neg': 0.0}\n",
      "neg_sentence: {'pos': 0.0, 'neu': 0.0, 'compound': -0.5423, 'neg': 1.0}\n"
     ]
    }
   ],
   "source": [
    "sentences = {\"pos_sentence\": \"Amazing!\",\n",
    "             \"neu_sentence\": \"That is great! But I don't know...maybe a little weird\", \n",
    "             \"neg_sentence\": \"Bad\",\n",
    "            \"negated_words\": \"I am not happy\",\n",
    "            \"neutral\":\"I will go tomorrow to the mountain\"}\n",
    "\n",
    "for e in sentences:\n",
    "    print(\"{}: {}\".format(e, sid.polarity_scores(sentences[e])))"
   ]
  },
  {
   "cell_type": "code",
   "execution_count": 5,
   "metadata": {},
   "outputs": [
    {
     "data": {
      "text/plain": [
       "Sentiment(polarity=-0.8, subjectivity=0.9)"
      ]
     },
     "execution_count": 5,
     "metadata": {},
     "output_type": "execute_result"
    }
   ],
   "source": [
    "# https://medium.com/@rahulvaish/textblob-and-sentiment-analysis-python-a687e9fabe96\n",
    "# https://textblob.readthedocs.io/en/dev/\n",
    "\n",
    "from textblob import TextBlob # install TextBlob\n",
    "\n",
    "TextBlob(\"hate\").sentiment"
   ]
  },
  {
   "cell_type": "code",
   "execution_count": 13,
   "metadata": {},
   "outputs": [
    {
     "name": "stdout",
     "output_type": "stream",
     "text": [
      "pos_sentence: Sentiment(polarity=0.7500000000000001, subjectivity=0.9)\n",
      "neu_sentence: Sentiment(polarity=0.10416666666666667, subjectivity=0.75)\n",
      "neg_sentence: Sentiment(polarity=-0.6999999999999998, subjectivity=0.6666666666666666)\n",
      "negated_words: Sentiment(polarity=-0.4, subjectivity=1.0)\n",
      "neutral: Sentiment(polarity=0.0, subjectivity=0.0)\n"
     ]
    }
   ],
   "source": [
    "for e in sentences:\n",
    "    print(\"{}: {}\".format(e, TextBlob(sentences[e]).sentiment))"
   ]
  },
  {
   "cell_type": "markdown",
   "metadata": {},
   "source": [
    "### For the recommendation system"
   ]
  },
  {
   "cell_type": "code",
   "execution_count": 30,
   "metadata": {},
   "outputs": [],
   "source": [
    "text = 'The planet Earth orbits the Sun.'"
   ]
  },
  {
   "cell_type": "code",
   "execution_count": 31,
   "metadata": {},
   "outputs": [
    {
     "name": "stdout",
     "output_type": "stream",
     "text": [
      "['The', 'planet', 'Earth', 'orbits', 'the', 'Sun', '.']\n"
     ]
    }
   ],
   "source": [
    "# tokenize \n",
    "tokens = nltk.word_tokenize(text)\n",
    "print(tokens)"
   ]
  },
  {
   "cell_type": "code",
   "execution_count": 32,
   "metadata": {},
   "outputs": [
    {
     "data": {
      "text/plain": [
       "['The', 'planet', 'Earth', 'orbits', 'the', 'Sun']"
      ]
     },
     "execution_count": 32,
     "metadata": {},
     "output_type": "execute_result"
    }
   ],
   "source": [
    "# tokenize removing punctuation\n",
    "from nltk.tokenize import RegexpTokenizer\n",
    "tokenizer = RegexpTokenizer(r'\\w+')\n",
    "tokens = tokenizer.tokenize(text)\n",
    "tokens"
   ]
  },
  {
   "cell_type": "code",
   "execution_count": 33,
   "metadata": {
    "scrolled": true
   },
   "outputs": [
    {
     "name": "stderr",
     "output_type": "stream",
     "text": [
      "[nltk_data] Downloading package stopwords to /Users/bego/nltk_data...\n",
      "[nltk_data]   Package stopwords is already up-to-date!\n"
     ]
    },
    {
     "data": {
      "text/plain": [
       "['The', 'planet', 'Earth', 'orbits', 'Sun']"
      ]
     },
     "execution_count": 33,
     "metadata": {},
     "output_type": "execute_result"
    }
   ],
   "source": [
    "# remove stop words\n",
    "\n",
    "from nltk.corpus import stopwords\n",
    "nltk.download('stopwords')\n",
    "stop_words = set(stopwords.words('english'))\n",
    "stop_words\n",
    "\n",
    "tokens_clean = [e for e in tokens if e not in stop_words]\n",
    "tokens_clean"
   ]
  },
  {
   "cell_type": "code",
   "execution_count": 34,
   "metadata": {},
   "outputs": [],
   "source": [
    "# other recommender systems\n",
    "# https://www.kernix.com/blog/recommender-system-based-on-natural-language-processing_p10\n"
   ]
  }
 ],
 "metadata": {
  "kernelspec": {
   "display_name": "Python 3",
   "language": "python",
   "name": "python3"
  },
  "language_info": {
   "codemirror_mode": {
    "name": "ipython",
    "version": 3
   },
   "file_extension": ".py",
   "mimetype": "text/x-python",
   "name": "python",
   "nbconvert_exporter": "python",
   "pygments_lexer": "ipython3",
   "version": "3.5.2"
  }
 },
 "nbformat": 4,
 "nbformat_minor": 2
}
